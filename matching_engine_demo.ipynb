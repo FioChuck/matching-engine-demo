{
 "cells": [
  {
   "cell_type": "markdown",
   "id": "3a38af16-8e2d-4cd3-bad7-1b8382ec3cbc",
   "metadata": {},
   "source": [
    "# Embedding Encoding"
   ]
  },
  {
   "cell_type": "markdown",
   "id": "fdaf47ae-4bc1-4d88-9200-54c426092207",
   "metadata": {},
   "source": [
    "## Install Python Packages"
   ]
  },
  {
   "cell_type": "code",
   "execution_count": 1,
   "id": "4433539e-05ed-402d-8def-d87b93a04761",
   "metadata": {},
   "outputs": [],
   "source": [
    "%%capture\n",
    "!pip3 install seaborn\n",
    "!pip3 install tensorflow\n",
    "!pip3 install tensorflow_hub\n",
    "!pip3 install tensorflow_datasets\n",
    "!pip install google-cloud-aiplatform"
   ]
  },
  {
   "cell_type": "markdown",
   "id": "05edfecb-6311-41b2-a60a-1126175c9aaa",
   "metadata": {},
   "source": [
    "## Remove existing metadata and coeffecients"
   ]
  },
  {
   "cell_type": "code",
   "execution_count": 2,
   "id": "6e49b9d0-e907-4a45-87f6-4507827104a9",
   "metadata": {},
   "outputs": [],
   "source": [
    "!rm -r tmp\n",
    "!rm -r tmp2 # for gecko embeddings (not currently used)"
   ]
  },
  {
   "cell_type": "markdown",
   "id": "b3faf249-c83a-4e6c-a5cf-cda7b40a82e3",
   "metadata": {},
   "source": [
    "## Create metadata path "
   ]
  },
  {
   "cell_type": "code",
   "execution_count": 3,
   "id": "14144bf6-b53d-4f44-a318-e95bdabbdb2b",
   "metadata": {},
   "outputs": [],
   "source": [
    "import os\n",
    "\n",
    "log_dir='tmp'\n",
    "if not os.path.exists(log_dir):\n",
    "    os.makedirs(log_dir)\n",
    "    \n",
    "log_dir='tmp2' # for gecko embedding (not currently used)\n",
    "if not os.path.exists(log_dir):\n",
    "    os.makedirs(log_dir)"
   ]
  },
  {
   "cell_type": "markdown",
   "id": "bbb78d0d-5fbd-4e6b-8ebb-1bf127c2b4b6",
   "metadata": {},
   "source": [
    "## Load the Universal Sentence Encoder's TF Hub module\n",
    "https://arxiv.org/pdf/1803.11175.pdf\n",
    "\n",
    "https://www.tensorflow.org/hub/tutorials/semantic_similarity_with_tf_hub_universal_encoder"
   ]
  },
  {
   "cell_type": "code",
   "execution_count": 4,
   "id": "fe09a938-4108-4e7e-ac88-e757c13f19cb",
   "metadata": {},
   "outputs": [
    {
     "name": "stderr",
     "output_type": "stream",
     "text": [
      "2023-08-21 20:15:04.751053: I tensorflow/core/platform/cpu_feature_guard.cc:193] This TensorFlow binary is optimized with oneAPI Deep Neural Network Library (oneDNN) to use the following CPU instructions in performance-critical operations:  AVX2 FMA\n",
      "To enable them in other operations, rebuild TensorFlow with the appropriate compiler flags.\n",
      "2023-08-21 20:15:06.764128: W tensorflow/compiler/xla/stream_executor/platform/default/dso_loader.cc:64] Could not load dynamic library 'libnvinfer.so.7'; dlerror: libnvinfer.so.7: cannot open shared object file: No such file or directory; LD_LIBRARY_PATH: /usr/local/cuda/lib64:/usr/local/nccl2/lib:/usr/local/cuda/extras/CUPTI/lib64\n",
      "2023-08-21 20:15:06.764310: W tensorflow/compiler/xla/stream_executor/platform/default/dso_loader.cc:64] Could not load dynamic library 'libnvinfer_plugin.so.7'; dlerror: libnvinfer_plugin.so.7: cannot open shared object file: No such file or directory; LD_LIBRARY_PATH: /usr/local/cuda/lib64:/usr/local/nccl2/lib:/usr/local/cuda/extras/CUPTI/lib64\n",
      "2023-08-21 20:15:06.764324: W tensorflow/compiler/tf2tensorrt/utils/py_utils.cc:38] TF-TRT Warning: Cannot dlopen some TensorRT libraries. If you would like to use Nvidia GPU with TensorRT, please make sure the missing libraries mentioned above are installed properly.\n",
      "2023-08-21 20:15:10.008137: W tensorflow/compiler/xla/stream_executor/platform/default/dso_loader.cc:64] Could not load dynamic library 'libcuda.so.1'; dlerror: libcuda.so.1: cannot open shared object file: No such file or directory; LD_LIBRARY_PATH: /usr/local/cuda/lib64:/usr/local/nccl2/lib:/usr/local/cuda/extras/CUPTI/lib64\n",
      "2023-08-21 20:15:10.008220: W tensorflow/compiler/xla/stream_executor/cuda/cuda_driver.cc:265] failed call to cuInit: UNKNOWN ERROR (303)\n",
      "2023-08-21 20:15:10.008260: I tensorflow/compiler/xla/stream_executor/cuda/cuda_diagnostics.cc:156] kernel driver does not appear to be running on this host (instance-20230810-161935): /proc/driver/nvidia/version does not exist\n",
      "2023-08-21 20:15:10.009089: I tensorflow/core/platform/cpu_feature_guard.cc:193] This TensorFlow binary is optimized with oneAPI Deep Neural Network Library (oneDNN) to use the following CPU instructions in performance-critical operations:  AVX2 FMA\n",
      "To enable them in other operations, rebuild TensorFlow with the appropriate compiler flags.\n"
     ]
    }
   ],
   "source": [
    "import tensorflow as tf\n",
    "import tensorflow_hub as hub\n",
    "import json # required to save embeddings (then upload to Matching Engine)\n",
    "import numpy as np\n",
    "import pandas as pd\n",
    "import csv\n",
    "from tensorboard.plugins import projector # tensorboard visualizer\n",
    "from google.cloud import aiplatform\n",
    "from vertexai.preview.language_models import TextEmbeddingModel\n",
    "\n",
    "module_url = \"https://tfhub.dev/google/universal-sentence-encoder/4\"\n",
    "model = hub.load(module_url)\n",
    "\n",
    "def embed(input):\n",
    "  return model(input)"
   ]
  },
  {
   "cell_type": "markdown",
   "id": "0dff4ebb-163d-456e-9c53-74184bcfde20",
   "metadata": {},
   "source": [
    "## Load Business Descriptions from BigQuery into Pandas Dataframe\n",
    "Select ~10,000 samples from 100 million rows"
   ]
  },
  {
   "cell_type": "code",
   "execution_count": 5,
   "id": "d621511e-4627-48b3-9a38-4f147129ecf9",
   "metadata": {},
   "outputs": [
    {
     "data": {
      "application/vnd.jupyter.widget-view+json": {
       "model_id": "716813b0e3fc48b4bb448ccf4c06ff27",
       "version_major": 2,
       "version_minor": 0
      },
      "text/plain": [
       "Query is running:   0%|          |"
      ]
     },
     "metadata": {},
     "output_type": "display_data"
    },
    {
     "data": {
      "application/vnd.jupyter.widget-view+json": {
       "model_id": "48aafcf2939249dc84a8836b74a8ef2e",
       "version_major": 2,
       "version_minor": 0
      },
      "text/plain": [
       "Downloading:   0%|          |"
      ]
     },
     "metadata": {},
     "output_type": "display_data"
    }
   ],
   "source": [
    "%%bigquery df --project cf-data-analytics\n",
    "SELECT\n",
    "  name,\n",
    "  description,\n",
    "  country,\n",
    "  language,\n",
    "  postal,\n",
    "  city,\n",
    "  state,\n",
    "  address_l1,\n",
    "  industry,\n",
    "  summary\n",
    "FROM\n",
    "  `cf-data-analytics.us_businesses.description_v2`\n",
    "  WHERE RAND() < 10000/(SELECT COUNT(*) FROM `cf-data-analytics.us_businesses.description_v2`) # select random rows\n",
    "  and summary is not null\n",
    "  and summary != 'None'"
   ]
  },
  {
   "cell_type": "code",
   "execution_count": 6,
   "id": "c8a444d3-d18b-4490-b8d2-4ee797d2a123",
   "metadata": {},
   "outputs": [
    {
     "data": {
      "text/html": [
       "<div>\n",
       "<style scoped>\n",
       "    .dataframe tbody tr th:only-of-type {\n",
       "        vertical-align: middle;\n",
       "    }\n",
       "\n",
       "    .dataframe tbody tr th {\n",
       "        vertical-align: top;\n",
       "    }\n",
       "\n",
       "    .dataframe thead th {\n",
       "        text-align: right;\n",
       "    }\n",
       "</style>\n",
       "<table border=\"1\" class=\"dataframe\">\n",
       "  <thead>\n",
       "    <tr style=\"text-align: right;\">\n",
       "      <th></th>\n",
       "      <th>name</th>\n",
       "      <th>description</th>\n",
       "      <th>country</th>\n",
       "      <th>language</th>\n",
       "      <th>postal</th>\n",
       "      <th>city</th>\n",
       "      <th>state</th>\n",
       "      <th>address_l1</th>\n",
       "      <th>industry</th>\n",
       "      <th>summary</th>\n",
       "    </tr>\n",
       "  </thead>\n",
       "  <tbody>\n",
       "    <tr>\n",
       "      <th>5476</th>\n",
       "      <td>Klk Investments, L.P.</td>\n",
       "      <td>Investor</td>\n",
       "      <td>US</td>\n",
       "      <td>EN</td>\n",
       "      <td>92040</td>\n",
       "      <td>Lakeside</td>\n",
       "      <td>CA</td>\n",
       "      <td>12417 Vigilante Rd</td>\n",
       "      <td>Investors, not elsewhere classified</td>\n",
       "      <td>Klk Investments, L.P. is located in the US and...</td>\n",
       "    </tr>\n",
       "    <tr>\n",
       "      <th>5582</th>\n",
       "      <td>Truckmasters Inc</td>\n",
       "      <td>Ret new/used automobiles</td>\n",
       "      <td>US</td>\n",
       "      <td>EN</td>\n",
       "      <td>85032</td>\n",
       "      <td>Phoenix</td>\n",
       "      <td>AZ</td>\n",
       "      <td>3110 E Bell Rd</td>\n",
       "      <td>Motor vehicle dealers (new and used)</td>\n",
       "      <td>Truckmasters Inc is located in the US and best...</td>\n",
       "    </tr>\n",
       "    <tr>\n",
       "      <th>3893</th>\n",
       "      <td>All Purpose Trucking, L.L.C.</td>\n",
       "      <td>Local trucking operator</td>\n",
       "      <td>US</td>\n",
       "      <td>EN</td>\n",
       "      <td>53022</td>\n",
       "      <td>Germantown</td>\n",
       "      <td>WI</td>\n",
       "      <td>W156n10318 Pilgrim Rd</td>\n",
       "      <td>Local trucking without storage</td>\n",
       "      <td>All Purpose Trucking, L.L.C. is located in the...</td>\n",
       "    </tr>\n",
       "    <tr>\n",
       "      <th>9239</th>\n",
       "      <td>Sharkey's Massage Therapy Llc</td>\n",
       "      <td>Specialty outpatient clinic</td>\n",
       "      <td>US</td>\n",
       "      <td>EN</td>\n",
       "      <td>70422</td>\n",
       "      <td>Amite City</td>\n",
       "      <td>LA</td>\n",
       "      <td>101 S Bay St</td>\n",
       "      <td>Specialty outpatient facilities, not elsewhere...</td>\n",
       "      <td>Sharkey's Massage Therapy Llc is located in th...</td>\n",
       "    </tr>\n",
       "    <tr>\n",
       "      <th>7058</th>\n",
       "      <td>Bustin' For Badges</td>\n",
       "      <td>Whol nondurable goods</td>\n",
       "      <td>US</td>\n",
       "      <td>EN</td>\n",
       "      <td>79701</td>\n",
       "      <td>Midland</td>\n",
       "      <td>TX</td>\n",
       "      <td>601 N Loraine St</td>\n",
       "      <td>Nondurable goods, not elsewhere classified</td>\n",
       "      <td>Bustin' For Badges is located in the US and be...</td>\n",
       "    </tr>\n",
       "  </tbody>\n",
       "</table>\n",
       "</div>"
      ],
      "text/plain": [
       "                               name                  description country  \\\n",
       "5476          Klk Investments, L.P.                     Investor      US   \n",
       "5582               Truckmasters Inc     Ret new/used automobiles      US   \n",
       "3893   All Purpose Trucking, L.L.C.      Local trucking operator      US   \n",
       "9239  Sharkey's Massage Therapy Llc  Specialty outpatient clinic      US   \n",
       "7058             Bustin' For Badges        Whol nondurable goods      US   \n",
       "\n",
       "     language postal        city state             address_l1  \\\n",
       "5476       EN  92040    Lakeside    CA     12417 Vigilante Rd   \n",
       "5582       EN  85032     Phoenix    AZ         3110 E Bell Rd   \n",
       "3893       EN  53022  Germantown    WI  W156n10318 Pilgrim Rd   \n",
       "9239       EN  70422  Amite City    LA           101 S Bay St   \n",
       "7058       EN  79701     Midland    TX       601 N Loraine St   \n",
       "\n",
       "                                               industry  \\\n",
       "5476                Investors, not elsewhere classified   \n",
       "5582               Motor vehicle dealers (new and used)   \n",
       "3893                     Local trucking without storage   \n",
       "9239  Specialty outpatient facilities, not elsewhere...   \n",
       "7058         Nondurable goods, not elsewhere classified   \n",
       "\n",
       "                                                summary  \n",
       "5476  Klk Investments, L.P. is located in the US and...  \n",
       "5582  Truckmasters Inc is located in the US and best...  \n",
       "3893  All Purpose Trucking, L.L.C. is located in the...  \n",
       "9239  Sharkey's Massage Therapy Llc is located in th...  \n",
       "7058  Bustin' For Badges is located in the US and be...  "
      ]
     },
     "execution_count": 6,
     "metadata": {},
     "output_type": "execute_result"
    }
   ],
   "source": [
    "df.sample(5) # sample of data"
   ]
  },
  {
   "cell_type": "markdown",
   "id": "9aa10627-f0f4-4f52-941a-cd32ca27bec9",
   "metadata": {},
   "source": [
    "## Convert Pandas dataframe to TF Tensor"
   ]
  },
  {
   "cell_type": "code",
   "execution_count": 7,
   "id": "62d3e939-97cc-44ef-b8eb-fe2d1d0eb0a4",
   "metadata": {},
   "outputs": [],
   "source": [
    "df['summary'] = df['summary'].str.replace('[^\\u0000-\\u007F]+', '', regex=True) # remove unicode\n",
    "lst = df['summary'].values.tolist() # convert to list; required for tensor conversion"
   ]
  },
  {
   "cell_type": "code",
   "execution_count": 8,
   "id": "e72c6cb4-7511-4499-aa4a-e76a18adf554",
   "metadata": {},
   "outputs": [],
   "source": [
    "df2 = df.head(700) # select top 700 values from original sample, projector visualizer maxes out 1000 vectors\n",
    "lst2 = df2['summary'].values.tolist() # convert pandas datafram to list; required for tensor conversion\n",
    "\n",
    "# convert list to tf tensor\n",
    "input_tensor = tf.convert_to_tensor(\n",
    "    lst2, dtype=tf.string, dtype_hint=None, name=None\n",
    ")"
   ]
  },
  {
   "cell_type": "markdown",
   "id": "a0cc5816-b95a-4ae0-9aa9-108c38c4481a",
   "metadata": {},
   "source": [
    "## Encode Embeddings using Universal Sentence Encoder _(512 Dimensions)_"
   ]
  },
  {
   "cell_type": "code",
   "execution_count": 9,
   "id": "f005a9e5-6b2e-4257-af4b-38e58b1f4701",
   "metadata": {},
   "outputs": [],
   "source": [
    "message_embeddings = embed(input_tensor) # return array of vectors as tensor"
   ]
  },
  {
   "cell_type": "markdown",
   "id": "7d9b76b2-08b9-4ffc-b9e0-035837844f86",
   "metadata": {},
   "source": [
    "# Visualize Embeddings _(Dimension Reduction)_\n",
    "\n",
    "https://www.tensorflow.org/tensorboard/tensorboard_projector_plugin"
   ]
  },
  {
   "cell_type": "markdown",
   "id": "86649b86-4b4b-4f1e-80d6-5057ccffeb58",
   "metadata": {},
   "source": [
    "## Create metadata for Embeddings Visualization"
   ]
  },
  {
   "cell_type": "code",
   "execution_count": 10,
   "id": "431c7988-2166-4e5e-bb3f-e7bae844c3d9",
   "metadata": {},
   "outputs": [],
   "source": [
    "lst_meta = df2.to_numpy()\n",
    "\n",
    "col_lst = [] # create a list of column names\n",
    "for col in df.columns:\n",
    "  col_lst.append(col)\n",
    "\n",
    "col_array = np.array([col_lst]) # convert list to numpy array (for metadata)"
   ]
  },
  {
   "cell_type": "code",
   "execution_count": 11,
   "id": "f2e8005c-bd06-4ebb-90bd-123c9ff249c6",
   "metadata": {},
   "outputs": [],
   "source": [
    "x2 = np.array(message_embeddings) # convert tf to numpy array\n",
    "y2 = np.array(lst_meta)"
   ]
  },
  {
   "cell_type": "markdown",
   "id": "298f1b8b-3593-4d7c-ac40-fa66db978b11",
   "metadata": {},
   "source": [
    "## Write metadata _.tsv_ and checkpoint _.ckpt_\n",
    "Declare ProjectorConfig()"
   ]
  },
  {
   "cell_type": "code",
   "execution_count": 12,
   "id": "7cfe398f-415f-4c6b-a594-c8dcb785a47f",
   "metadata": {},
   "outputs": [],
   "source": [
    "def register_embedding(embedding_tensor_name, meta_data_fname, log_dir):\n",
    "    config = projector.ProjectorConfig()\n",
    "    embedding = config.embeddings.add()\n",
    "    embedding.tensor_name = embedding_tensor_name\n",
    "    embedding.metadata_path = meta_data_fname\n",
    "    projector.visualize_embeddings(log_dir, config)\n",
    "\n",
    "def save_labels_tsv(labels,label_headers, filepath, log_dir):\n",
    "    with open(os.path.join(log_dir, filepath), 'w') as f:\n",
    "      writer = csv.writer(f, delimiter='\\t')\n",
    "      writer.writerows(label_headers) # write headers as \n",
    "      writer.writerows(labels) # write labels\n",
    "\n",
    "LOG_DIR = 'tmp'  # tensorboard log dir\n",
    "META_DATA_FNAME = 'meta.tsv'  # labels will be stored here\n",
    "EMBEDDINGS_TENSOR_NAME = 'message_embeddings'\n",
    "EMBEDDINGS_FPATH = os.path.join(LOG_DIR, EMBEDDINGS_TENSOR_NAME + '.ckpt') # checkpoint file contains coeffecients \n",
    "STEP = 0\n",
    "\n",
    "x = x2\n",
    "y = y2\n",
    "\n",
    "register_embedding(EMBEDDINGS_TENSOR_NAME, META_DATA_FNAME, LOG_DIR)\n",
    "save_labels_tsv(y,col_array, META_DATA_FNAME, LOG_DIR) # save .tsv metadata"
   ]
  },
  {
   "cell_type": "code",
   "execution_count": 13,
   "id": "400ff9af-0edb-4540-976d-f607fa54ae52",
   "metadata": {},
   "outputs": [
    {
     "name": "stdout",
     "output_type": "stream",
     "text": [
      "[[ 0.00064967 -0.00977142  0.00123326 ... -0.00765369  0.02207767\n",
      "  -0.03573458]\n",
      " [-0.02549926  0.00014862 -0.05294493 ... -0.01382775 -0.045181\n",
      "  -0.01690979]\n",
      " [-0.03411159  0.03754803 -0.06858061 ...  0.00637971  0.03873222\n",
      "  -0.04947431]\n",
      " ...\n",
      " [-0.01361914  0.03074034  0.01503934 ... -0.04498469  0.03818046\n",
      "  -0.03166247]\n",
      " [-0.02490119  0.03474186 -0.00148704 ... -0.02573494  0.03344541\n",
      "  -0.05940924]\n",
      " [-0.01998372  0.03797555 -0.06666351 ... -0.03110051  0.01287225\n",
      "  -0.02513331]]\n"
     ]
    }
   ],
   "source": [
    "print(x)"
   ]
  },
  {
   "cell_type": "code",
   "execution_count": 14,
   "id": "5e3e9ff7-86e2-40e5-a1f6-a5076849743a",
   "metadata": {},
   "outputs": [
    {
     "name": "stdout",
     "output_type": "stream",
     "text": [
      "WARNING:tensorflow:Saver is deprecated, please switch to tf.train.Checkpoint or tf.keras.Model.save_weights for training checkpoints. When executing eagerly variables do not necessarily have unique names, and so the variable.name-based lookups Saver performs are error-prone.\n"
     ]
    },
    {
     "name": "stderr",
     "output_type": "stream",
     "text": [
      "WARNING:tensorflow:Saver is deprecated, please switch to tf.train.Checkpoint or tf.keras.Model.save_weights for training checkpoints. When executing eagerly variables do not necessarily have unique names, and so the variable.name-based lookups Saver performs are error-prone.\n"
     ]
    },
    {
     "data": {
      "text/plain": [
       "'tmp/message_embeddings.ckpt-0'"
      ]
     },
     "execution_count": 14,
     "metadata": {},
     "output_type": "execute_result"
    }
   ],
   "source": [
    "tensor_embeddings = tf.Variable(x, name=EMBEDDINGS_TENSOR_NAME) # create tensor variable with embeddings array\n",
    "saver = tf.compat.v1.train.Saver([tensor_embeddings])  # create checkpoint\n",
    "saver.save(sess=None, global_step=STEP, save_path=EMBEDDINGS_FPATH)"
   ]
  },
  {
   "cell_type": "markdown",
   "id": "ccaca50b-f506-4398-b187-01be1599fd5a",
   "metadata": {},
   "source": [
    "## Load Tensorboard"
   ]
  },
  {
   "cell_type": "code",
   "execution_count": 15,
   "id": "c38894af-b8cb-4b80-8c25-37499e0b19e0",
   "metadata": {},
   "outputs": [],
   "source": [
    "try:\n",
    "  # %tensorflow_version only exists in Colab.\n",
    "  %tensorflow_version 2.x\n",
    "except Exception:\n",
    "  pass\n",
    "\n",
    "%load_ext tensorboard"
   ]
  },
  {
   "cell_type": "code",
   "execution_count": 43,
   "id": "577191df-3781-4039-b6c2-22e3991ed843",
   "metadata": {},
   "outputs": [
    {
     "data": {
      "text/plain": [
       "Reusing TensorBoard on port 6006 (pid 3886364), started 0:08:09 ago. (Use '!kill 3886364' to kill it.)"
      ]
     },
     "metadata": {},
     "output_type": "display_data"
    },
    {
     "data": {
      "text/html": [
       "\n",
       "      <iframe id=\"tensorboard-frame-e2f0be619687c762\" width=\"100%\" height=\"800\" frameborder=\"0\">\n",
       "      </iframe>\n",
       "      <script>\n",
       "        (function() {\n",
       "          const frame = document.getElementById(\"tensorboard-frame-e2f0be619687c762\");\n",
       "          const url = new URL(\"/proxy/6006/\", window.location);\n",
       "          const port = 0;\n",
       "          if (port) {\n",
       "            url.port = port;\n",
       "          }\n",
       "          frame.src = url;\n",
       "        })();\n",
       "      </script>\n",
       "    "
      ],
      "text/plain": [
       "<IPython.core.display.HTML object>"
      ]
     },
     "metadata": {},
     "output_type": "display_data"
    }
   ],
   "source": [
    "%tensorboard --logdir tmp --load_fast=false"
   ]
  },
  {
   "cell_type": "markdown",
   "id": "c3a38ba6-4ae1-4e1f-8827-0db5c57c820d",
   "metadata": {
    "tags": []
   },
   "source": [
    "# Create Embeddings from Generative AI Google Model _(textembedding-gecko@001)_\n",
    "https://cloud.google.com/vertex-ai/docs/generative-ai/model-reference/text-embeddings"
   ]
  },
  {
   "cell_type": "code",
   "execution_count": 17,
   "id": "e976f994-b78f-434b-8b43-0759f4fc524d",
   "metadata": {},
   "outputs": [],
   "source": [
    "aiplatform.init(project='cf-data-analytics',)\n",
    "model = TextEmbeddingModel.from_pretrained(\"textembedding-gecko@001\")"
   ]
  },
  {
   "cell_type": "code",
   "execution_count": 18,
   "id": "91fc60e1-a16d-4918-a452-6de97aee54eb",
   "metadata": {},
   "outputs": [],
   "source": [
    "from typing import Generator, List, Tuple, Optional\n",
    "from concurrent.futures import ThreadPoolExecutor\n",
    "from tqdm.auto import tqdm\n",
    "import math\n",
    "import functools\n",
    "from typing import List, Optional\n",
    "import time"
   ]
  },
  {
   "cell_type": "code",
   "execution_count": 19,
   "id": "b306370b-f6a3-449a-8001-534adc97c5a6",
   "metadata": {},
   "outputs": [],
   "source": [
    "def encode_texts_to_embeddings(sentences: List[str]) -> List[Optional[List[float]]]:\n",
    "    try:\n",
    "        embeddings = model.get_embeddings(sentences)\n",
    "        return [embedding.values for embedding in embeddings]\n",
    "    except Exception:\n",
    "        return [None for _ in range(len(sentences))]\n",
    "def generate_batches(\n",
    "    sentences: List[str], batch_size: int\n",
    ") -> Generator[List[str], None, None]:\n",
    "    for i in range(0, len(sentences), batch_size):\n",
    "        yield sentences[i : i + batch_size]\n",
    "\n",
    "def encode_text_to_embedding_batched(\n",
    "    sentences: List[str], api_calls_per_second: int = 10, batch_size: int = 5\n",
    ") -> Tuple[List[bool], np.ndarray]:\n",
    "\n",
    "    embeddings_list: List[List[float]] = []\n",
    "\n",
    "    # Prepare the batches using a generator\n",
    "    batches = generate_batches(sentences, batch_size)\n",
    "\n",
    "    seconds_per_job = 1 / api_calls_per_second\n",
    "\n",
    "    with ThreadPoolExecutor() as executor:\n",
    "        futures = []\n",
    "        for batch in tqdm(\n",
    "            batches, total=math.ceil(len(sentences) / batch_size), position=0\n",
    "        ):\n",
    "            futures.append(\n",
    "                executor.submit(functools.partial(encode_texts_to_embeddings), batch)\n",
    "            )\n",
    "            time.sleep(seconds_per_job)\n",
    "\n",
    "        for future in futures:\n",
    "            embeddings_list.extend(future.result())\n",
    "\n",
    "    is_successful = [\n",
    "        embedding is not None for sentence, embedding in zip(sentences, embeddings_list)\n",
    "    ]\n",
    "    embeddings_list_successful = np.squeeze(\n",
    "        np.stack([embedding for embedding in embeddings_list if embedding is not None])\n",
    "    )\n",
    "    return is_successful, embeddings_list_successful"
   ]
  },
  {
   "cell_type": "code",
   "execution_count": 20,
   "id": "e3df105d-25a5-4777-9368-8b8e72c02485",
   "metadata": {},
   "outputs": [
    {
     "data": {
      "application/vnd.jupyter.widget-view+json": {
       "model_id": "2f8cc4499a7243e98e03a5d24f4dd6a7",
       "version_major": 2,
       "version_minor": 0
      },
      "text/plain": [
       "  0%|          | 0/2000 [00:00<?, ?it/s]"
      ]
     },
     "metadata": {},
     "output_type": "display_data"
    }
   ],
   "source": [
    "is_successful, question_embeddings = encode_text_to_embedding_batched(lst)"
   ]
  },
  {
   "cell_type": "code",
   "execution_count": 21,
   "id": "7364c772-5821-4475-8d57-ba0dceb63c34",
   "metadata": {},
   "outputs": [
    {
     "data": {
      "text/plain": [
       "(9998, 768)"
      ]
     },
     "execution_count": 21,
     "metadata": {},
     "output_type": "execute_result"
    }
   ],
   "source": [
    "question_embeddings.shape"
   ]
  },
  {
   "cell_type": "markdown",
   "id": "01600323-662e-466b-a079-4de32e7f3bfd",
   "metadata": {
    "tags": []
   },
   "source": [
    "# Create Matching Engine ANN Index\n",
    "https://github.com/GoogleCloudPlatform/vertex-ai-samples/blob/main/notebooks/official/matching_engine/sdk_matching_engine_for_indexing.ipynb"
   ]
  },
  {
   "cell_type": "markdown",
   "id": "531e0f43-d90d-45b2-b406-656beea483eb",
   "metadata": {},
   "source": [
    "## Save Embedding Vectors as .json files for Upload"
   ]
  },
  {
   "cell_type": "code",
   "execution_count": 22,
   "id": "87600d70-f5de-48b4-9243-0f5c7c0c9751",
   "metadata": {},
   "outputs": [],
   "source": [
    "aiplatform.init(project=\"cf-data-analytics\", location='us-central1', staging_bucket='gs://cf-matching-engine-temp')"
   ]
  },
  {
   "cell_type": "code",
   "execution_count": 23,
   "id": "b9004dee-1e84-4204-b294-71130142a532",
   "metadata": {},
   "outputs": [],
   "source": [
    "DIMENSIONS = 768\n",
    "DISPLAY_NAME = \"business_embeddings2\"\n",
    "BUCKET_URI = 'gs://cf-matching-engine-temp'"
   ]
  },
  {
   "cell_type": "code",
   "execution_count": 24,
   "id": "4c638d88-0976-41cc-a9fe-71184ad20ef3",
   "metadata": {},
   "outputs": [],
   "source": [
    "with open(\"values.json\", \"w\") as f:\n",
    "  embeddings_formatted = [\n",
    "      json.dumps(\n",
    "          {\n",
    "              \"id\": str(index),\n",
    "              \"embedding\": [str(value) for value in embedding],\n",
    "              \"restricts\": [\n",
    "                  {\n",
    "                      \"namespace\": \"class\",\n",
    "                      \"allow_list\": [\"even\" if index % 2 == 0 else \"odd\"],\n",
    "                  }\n",
    "              ],\n",
    "          }\n",
    "      )\n",
    "      + \"\\n\"\n",
    "      for index, embedding in enumerate(question_embeddings)\n",
    "  ]\n",
    "  f.writelines(embeddings_formatted)"
   ]
  },
  {
   "cell_type": "markdown",
   "id": "e019af38-1704-4cd0-b3d0-197c2433196f",
   "metadata": {},
   "source": [
    "## Upload .json files to GCS"
   ]
  },
  {
   "cell_type": "code",
   "execution_count": 25,
   "id": "5bda77c9-7f83-46cf-acd7-2a8a6b914bbe",
   "metadata": {},
   "outputs": [
    {
     "name": "stdout",
     "output_type": "stream",
     "text": [
      "Copying file://values.json [Content-Type=application/json]...\n",
      "==> NOTE: You are uploading one or more large file(s), which would run          \n",
      "significantly faster if you enable parallel composite uploads. This\n",
      "feature can be enabled by editing the\n",
      "\"parallel_composite_upload_threshold\" value in your .boto\n",
      "configuration file. However, note that if you do this large files will\n",
      "be uploaded as `composite objects\n",
      "<https://cloud.google.com/storage/docs/composite-objects>`_,which\n",
      "means that any user who downloads such objects will need to have a\n",
      "compiled crcmod installed (see \"gsutil help crcmod\"). This is because\n",
      "without a compiled crcmod, computing checksums on composite objects is\n",
      "so slow that gsutil disables downloads of composite objects.\n",
      "\n",
      "/ [1 files][177.4 MiB/177.4 MiB]                                                \n",
      "Operation completed over 1 objects/177.4 MiB.                                    \n"
     ]
    }
   ],
   "source": [
    "EMBEDDINGS_INITIAL_URI = f\"{BUCKET_URI}/matching_engine/initial/\"\n",
    "! gsutil cp values.json {EMBEDDINGS_INITIAL_URI}"
   ]
  },
  {
   "cell_type": "markdown",
   "id": "64e17d18-fec0-412f-bdfc-4c374ea249ea",
   "metadata": {},
   "source": [
    "## Create Matching Engine Index"
   ]
  },
  {
   "cell_type": "code",
   "execution_count": 26,
   "id": "7914fba3-461f-48d1-8151-742888dc4aa1",
   "metadata": {},
   "outputs": [],
   "source": [
    "# tree_ah_index = aiplatform.MatchingEngineIndex.create_tree_ah_index(\n",
    "#     display_name=DISPLAY_NAME,\n",
    "#     contents_delta_uri=EMBEDDINGS_INITIAL_URI,\n",
    "#     dimensions=DIMENSIONS,\n",
    "#     approximate_neighbors_count=10,\n",
    "#     distance_measure_type=\"DOT_PRODUCT_DISTANCE\",\n",
    "#     leaf_node_embedding_count=500,\n",
    "#     leaf_nodes_to_search_percent=7,\n",
    "#     description=\"USE Encoder\",\n",
    "#     labels={\"label_name\": \"label_value\"},\n",
    "# )"
   ]
  },
  {
   "cell_type": "markdown",
   "id": "78bf724e-30aa-453b-a572-fc8f89a57934",
   "metadata": {},
   "source": [
    "## Create Matching Engine Endpoint"
   ]
  },
  {
   "cell_type": "code",
   "execution_count": 27,
   "id": "cffebc87-2a4b-4ddf-a6b6-6dead2509885",
   "metadata": {},
   "outputs": [],
   "source": [
    "# my_index_endpoint = aiplatform.MatchingEngineIndexEndpoint.create(\n",
    "#     display_name=\"business_demo_endpoint\",\n",
    "#     description=\"business endpoint description\",\n",
    "#     network=\"projects/1089470781238/global/networks/matching-engine-vpc-network\"\n",
    "# )"
   ]
  },
  {
   "cell_type": "markdown",
   "id": "04ee38eb-3429-4b75-accf-002487dbf5b2",
   "metadata": {},
   "source": [
    "## Deploy Index to Matching Engine Endpoint"
   ]
  },
  {
   "cell_type": "code",
   "execution_count": 28,
   "id": "5000be6c-d74d-4e90-9488-aacea4e9e7e4",
   "metadata": {},
   "outputs": [],
   "source": [
    "# deployed_index = my_index_endpoint.deploy_index(\n",
    "#     index=tree_ah_index, deployed_index_id=\"deployed_business_endpoint\"\n",
    "# )"
   ]
  },
  {
   "cell_type": "code",
   "execution_count": 29,
   "id": "4147f775-2657-4ce4-8355-c7a88784a328",
   "metadata": {},
   "outputs": [],
   "source": [
    "# !gcloud ai index-endpoints list --project=\"cf-data-analytics\" --region=\"us-central1\""
   ]
  },
  {
   "cell_type": "code",
   "execution_count": 30,
   "id": "068e6fd2-ed4b-4545-95dc-7485691303c1",
   "metadata": {},
   "outputs": [],
   "source": [
    "# index = aiplatform.MatchingEngineIndex(index_name='projects/1089470781238/locations/us-central1/indexes/8592225974232285184')"
   ]
  },
  {
   "cell_type": "code",
   "execution_count": 31,
   "id": "99378b9f-3af3-4768-a9c9-9221e1528766",
   "metadata": {},
   "outputs": [],
   "source": [
    "# deployed_index = my_index_endpoint.deploy_index(\n",
    "#     index=index, deployed_index_id=\"similar_text_index_deployed\"\n",
    "# )"
   ]
  },
  {
   "cell_type": "markdown",
   "id": "87df93db-c1b9-48f5-bed8-6d319386867d",
   "metadata": {},
   "source": [
    "# Query Index"
   ]
  },
  {
   "cell_type": "code",
   "execution_count": 32,
   "id": "b40d74d0-9750-429f-863f-8092ccc66bc6",
   "metadata": {},
   "outputs": [],
   "source": [
    "# aiplatform.init(project='cf-data-analytics',)\n",
    "# model = TextEmbeddingModel.from_pretrained(\"textembedding-gecko@001\")\n",
    "\n",
    "# model.get_embeddings()"
   ]
  },
  {
   "cell_type": "code",
   "execution_count": 33,
   "id": "7733c259-a986-4d47-8b99-bd83a1ef1d87",
   "metadata": {},
   "outputs": [],
   "source": [
    "endpoint = aiplatform.MatchingEngineIndexEndpoint(\n",
    "    index_endpoint_name='4192772088244731904'\n",
    ")"
   ]
  },
  {
   "cell_type": "code",
   "execution_count": 34,
   "id": "f7ff0f2a-5de4-4660-864f-a3ce298e385b",
   "metadata": {},
   "outputs": [],
   "source": [
    "query_sample = [\"sandwich shop in new york city ny\"]\n",
    "embedded_output = model.get_embeddings(query_sample)"
   ]
  },
  {
   "cell_type": "code",
   "execution_count": 35,
   "id": "11c7013e-188d-46d1-9f49-00edbd6aa71d",
   "metadata": {},
   "outputs": [
    {
     "data": {
      "text/plain": [
       "[[MatchNeighbor(id='601', distance=0.7504278421401978),\n",
       "  MatchNeighbor(id='490', distance=0.7379012107849121),\n",
       "  MatchNeighbor(id='379', distance=0.7363015413284302)]]"
      ]
     },
     "execution_count": 35,
     "metadata": {},
     "output_type": "execute_result"
    }
   ],
   "source": [
    "response = endpoint.match(\n",
    "    deployed_index_id=\"deployed_business_endpoint\",\n",
    "    queries=[embedded_output[0].values],\n",
    "    num_neighbors=3)\n",
    "\n",
    "response"
   ]
  },
  {
   "cell_type": "code",
   "execution_count": 36,
   "id": "ae401ac4-4f0f-439f-8f54-c80ece119f49",
   "metadata": {},
   "outputs": [
    {
     "name": "stdout",
     "output_type": "stream",
     "text": [
      "[[MatchNeighbor(id='601', distance=0.7504278421401978), MatchNeighbor(id='490', distance=0.7379012107849121), MatchNeighbor(id='379', distance=0.7363015413284302), MatchNeighbor(id='594', distance=0.7311584949493408), MatchNeighbor(id='380', distance=0.7269077897071838)]]\n"
     ]
    },
    {
     "data": {
      "text/plain": [
       "name                                      Sams Italian Foods Inc\n",
       "description                                         Eating place\n",
       "country                                                       US\n",
       "language                                                      EN\n",
       "postal                                                     04240\n",
       "city                                                    Lewiston\n",
       "state                                                         ME\n",
       "address_l1                                         902 Lisbon St\n",
       "industry                                           Eating places\n",
       "summary        Sams Italian Foods Inc is located in the US an...\n",
       "Name: 601, dtype: object"
      ]
     },
     "execution_count": 36,
     "metadata": {},
     "output_type": "execute_result"
    }
   ],
   "source": [
    "response = endpoint.match(\n",
    "    deployed_index_id=\"deployed_business_endpoint\",\n",
    "    queries=[embedded_output[0].values],\n",
    "    num_neighbors=5\n",
    ")\n",
    "\n",
    "print(response)\n",
    "\n",
    "loc = int(response[0][0].id)\n",
    "df.loc[loc]"
   ]
  },
  {
   "cell_type": "markdown",
   "id": "4c999522-144f-447b-bab5-ae8d9033efed",
   "metadata": {},
   "source": [
    "# Delete Index"
   ]
  },
  {
   "cell_type": "code",
   "execution_count": 37,
   "id": "e3958f0d-fe7b-47de-9626-e9e8cd8568aa",
   "metadata": {},
   "outputs": [],
   "source": [
    "# x = aiplatform.MatchingEngineIndexEndpoint.list()"
   ]
  },
  {
   "cell_type": "code",
   "execution_count": 38,
   "id": "218dbeb5-92ca-457c-80ae-05d6623357b7",
   "metadata": {},
   "outputs": [],
   "source": [
    "# for item in x:\n",
    "#     print(item)"
   ]
  },
  {
   "cell_type": "code",
   "execution_count": 39,
   "id": "f7bc1277-98bd-4823-9748-0fbb6717787c",
   "metadata": {},
   "outputs": [],
   "source": [
    "# x = aiplatform.MatchingEngineIndex.list()"
   ]
  },
  {
   "cell_type": "code",
   "execution_count": 40,
   "id": "abc1462c-b0f6-488d-ae6c-2644651c6f9e",
   "metadata": {},
   "outputs": [],
   "source": [
    "# for item in x:\n",
    "#     print(item)"
   ]
  },
  {
   "cell_type": "code",
   "execution_count": 41,
   "id": "69e00379-592c-4e83-9ae9-4750593ee029",
   "metadata": {},
   "outputs": [],
   "source": [
    "# index = aiplatform.MatchingEngineIndex(\n",
    "#     index_name='6814078177606893568'\n",
    "# )"
   ]
  },
  {
   "cell_type": "code",
   "execution_count": 42,
   "id": "40441afa-0ee3-496a-9f33-62ef796a9ab5",
   "metadata": {},
   "outputs": [],
   "source": [
    "# index.delete()"
   ]
  }
 ],
 "metadata": {
  "environment": {
   "kernel": "python3",
   "name": "tf2-gpu.2-11.m110",
   "type": "gcloud",
   "uri": "gcr.io/deeplearning-platform-release/tf2-gpu.2-11:m110"
  },
  "kernelspec": {
   "display_name": "Python 3",
   "language": "python",
   "name": "python3"
  },
  "language_info": {
   "codemirror_mode": {
    "name": "ipython",
    "version": 3
   },
   "file_extension": ".py",
   "mimetype": "text/x-python",
   "name": "python",
   "nbconvert_exporter": "python",
   "pygments_lexer": "ipython3",
   "version": "3.10.12"
  }
 },
 "nbformat": 4,
 "nbformat_minor": 5
}
